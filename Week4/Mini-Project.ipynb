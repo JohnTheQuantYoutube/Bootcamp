{
 "cells": [
  {
   "cell_type": "markdown",
   "id": "6a6c3555-c33f-4e8f-bf2e-ac9a5e63c013",
   "metadata": {},
   "source": [
    "# Student Performance"
   ]
  },
  {
   "cell_type": "markdown",
   "id": "132a259b-28e8-4cea-a55b-f917445ce167",
   "metadata": {},
   "source": [
    "## Summary"
   ]
  },
  {
   "cell_type": "markdown",
   "id": "7675f58b-200a-45c5-aa04-29b8bc1b422d",
   "metadata": {},
   "source": [
    "**In this box, write a summary of what you did and what you learned. Often, this will be the only thing that anyone else reads!.**"
   ]
  },
  {
   "cell_type": "markdown",
   "id": "02e92788-5e0b-47f9-bcdf-94132b5fa37c",
   "metadata": {},
   "source": [
    "## Import Packages"
   ]
  },
  {
   "cell_type": "code",
   "execution_count": 1,
   "id": "4eb77ac5-02bc-45d4-aea2-2fb07d906a1d",
   "metadata": {},
   "outputs": [],
   "source": [
    "# import the usual packages for loading and visualizing data"
   ]
  },
  {
   "cell_type": "markdown",
   "id": "6725185b-fe76-4052-9da5-01c24a899168",
   "metadata": {},
   "source": [
    "## Load Data"
   ]
  },
  {
   "cell_type": "code",
   "execution_count": 2,
   "id": "4287d2ed-bcb7-4592-9d85-41e7c2c9612b",
   "metadata": {},
   "outputs": [],
   "source": [
    "# DO NOT CHANGE THIS CELL! IT LOADS THE DATA FOR YOU!\n",
    "data = pd.read_csv('Student_Performance.csv')"
   ]
  },
  {
   "cell_type": "code",
   "execution_count": 2,
   "id": "e6ea566d-2080-4919-bb2c-9363529aa291",
   "metadata": {},
   "outputs": [],
   "source": [
    "# take a quick look at the data"
   ]
  },
  {
   "cell_type": "code",
   "execution_count": 3,
   "id": "ab21ce63-8892-4255-97a5-661842285479",
   "metadata": {},
   "outputs": [],
   "source": [
    "# check the data info"
   ]
  },
  {
   "cell_type": "code",
   "execution_count": 4,
   "id": "cadef1fa-591c-4e4a-a115-56c07917dfd9",
   "metadata": {},
   "outputs": [],
   "source": [
    "# fix any problems you immediately see in the dataset"
   ]
  },
  {
   "cell_type": "code",
   "execution_count": 5,
   "id": "40921e9c-2857-4d93-9552-46bf351cbb66",
   "metadata": {},
   "outputs": [],
   "source": [
    "# check for missing values"
   ]
  },
  {
   "cell_type": "markdown",
   "id": "12a0a387-99b8-4ea9-bc8d-4e792077cdc0",
   "metadata": {},
   "source": [
    "**In this cell, give your initial thoughts on the data!**"
   ]
  },
  {
   "cell_type": "markdown",
   "id": "df55c60d-3707-4701-862d-e146d645f6fa",
   "metadata": {},
   "source": [
    "## View and Explore the Data"
   ]
  },
  {
   "cell_type": "markdown",
   "id": "c52f7211-9882-48cc-b49a-64924da83662",
   "metadata": {},
   "source": [
    "Before we go any further, we need to know what all of the columns mean. We cannot interpret the results if we don't know what the columns mean. You can check the documentation for the dataset here https://www.kaggle.com/datasets/nikhil7280/student-performance-multiple-linear-regression.\n",
    "\n",
    "**In this cell, explain what each column of the dataset means.**"
   ]
  },
  {
   "cell_type": "markdown",
   "id": "5743fa1e-9c01-4ac7-9d47-858a51d9762e",
   "metadata": {},
   "source": [
    "## Train/Test Split"
   ]
  },
  {
   "cell_type": "markdown",
   "id": "6a103be3-2467-476c-ab46-d5c39416defe",
   "metadata": {},
   "source": [
    "Before we do anything to manipulate our data, we want to split it into training and testing sets! If we make any decisions after seeing the testing set, then it doesn't count as a test any more! It's like cheating. You're not allowed to see anything about the test until test time. So split now, then we'll transform and scale and model.\n",
    "\n",
    "Choose a good proportion to use for testing! It should be enough that you get a good idea of model performance, but not so much that training suffers."
   ]
  },
  {
   "cell_type": "code",
   "execution_count": 6,
   "id": "1a7f19be-b24b-4f67-b9bf-1416549e4d7f",
   "metadata": {},
   "outputs": [],
   "source": [
    "# import from sklearn"
   ]
  },
  {
   "cell_type": "code",
   "execution_count": 7,
   "id": "fb1621e6-6591-41c7-866f-4b05b71657d3",
   "metadata": {},
   "outputs": [],
   "source": [
    "# split into train test set"
   ]
  },
  {
   "cell_type": "code",
   "execution_count": 8,
   "id": "6fb05739-d893-4b52-926d-80f5f7a58bef",
   "metadata": {},
   "outputs": [],
   "source": [
    "# check shapes"
   ]
  },
  {
   "cell_type": "markdown",
   "id": "b047c7e8-a565-4d14-8803-d2052f967e61",
   "metadata": {},
   "source": [
    "### Visualize Data"
   ]
  },
  {
   "cell_type": "markdown",
   "id": "b2878eea-01b4-4158-9a53-2e5fc23e5051",
   "metadata": {},
   "source": [
    "There are a number of ways to visualize data. You choose which visualizations to do based on what you want to learn from them. \n",
    "\n",
    "**What do you want to learn at this point in the project?**\n"
   ]
  },
  {
   "cell_type": "code",
   "execution_count": 9,
   "id": "a7920bd7-6234-46c9-9a98-8ad404a77fe7",
   "metadata": {},
   "outputs": [],
   "source": [
    "# make the right visualization for your purposes here"
   ]
  },
  {
   "cell_type": "markdown",
   "id": "27bdebae-da25-47d9-97d4-2436c1051067",
   "metadata": {},
   "source": [
    "**What did you learn from your visualizations?**"
   ]
  },
  {
   "cell_type": "markdown",
   "id": "3a0fb74d-431d-443e-a1a5-8f4f8686c5cc",
   "metadata": {},
   "source": [
    "## Transform the Data"
   ]
  },
  {
   "cell_type": "markdown",
   "id": "0e461ef8-6ce4-4af0-8a22-833cbeb01000",
   "metadata": {},
   "source": [
    "Remember, in general we want all of the features to be symmetrical. Specifically we want them all to be normally distributed, with a bell-curve shape. When we can't have a bell-curve, we want them to be uniformly distributed, like a big rectangle. Go through each column and do whatever transformations you need in order to make the features symmetrical and ready for scaling/encoding."
   ]
  },
  {
   "cell_type": "code",
   "execution_count": 10,
   "id": "59f256ee-2f16-4324-a0ae-a5d51b8d72e5",
   "metadata": {},
   "outputs": [],
   "source": [
    "# perform transformations here"
   ]
  },
  {
   "cell_type": "markdown",
   "id": "fa0123eb-3194-49ae-af3c-6fda9c7e6b85",
   "metadata": {},
   "source": [
    "## Scaling and Encoding"
   ]
  },
  {
   "cell_type": "markdown",
   "id": "7d15fc49-bf16-48d7-824d-4becad06b623",
   "metadata": {},
   "source": [
    "Once all the features are nice and symmetrical, we want to make them all centered over zero and with the same spread (preferably such that the standard deviation is 1). If we have any categorical columns, we need to encode them as well. I'm going to use one-hot encoding, but you're free to use a different encoder if you like."
   ]
  },
  {
   "cell_type": "code",
   "execution_count": 11,
   "id": "3f1d92f9-676b-405c-976b-e0a59dac1304",
   "metadata": {},
   "outputs": [],
   "source": [
    "# load whatever you need (probably from sklearn)"
   ]
  },
  {
   "cell_type": "code",
   "execution_count": 12,
   "id": "c4c4fd70-5f03-4efc-9655-74a767987213",
   "metadata": {},
   "outputs": [],
   "source": [
    "# scale and encode data here"
   ]
  },
  {
   "cell_type": "code",
   "execution_count": 13,
   "id": "44eac618-a0d5-4ffe-beeb-bd4da6eaa450",
   "metadata": {},
   "outputs": [],
   "source": [
    "# examine the scaled and encoded data"
   ]
  },
  {
   "cell_type": "markdown",
   "id": "b6de1294-4a64-4adf-b715-c4803771e1c1",
   "metadata": {},
   "source": [
    "# Hypothesis Testing"
   ]
  },
  {
   "cell_type": "markdown",
   "id": "7f6e188e-1bb8-4cdc-ab88-86e88bff423e",
   "metadata": {},
   "source": [
    "## Research Questions"
   ]
  },
  {
   "cell_type": "markdown",
   "id": "0acbae43-6953-4a99-ac5a-61c5635efb53",
   "metadata": {},
   "source": [
    "Hypothesis tests answer questions, so before we can run a hypothesis test, we need to ask a good question. Keep the rules of Research Questions in mind and write a couple! I'll give you one, but you should write two of your own.\n",
    "\n",
    "1. Did students who got more sleep get higher scores on the final exam?\n",
    "2. **YOUR QUESTION HERE**\n",
    "3. **YOUR QUESTION HERE**"
   ]
  },
  {
   "cell_type": "markdown",
   "id": "f0b57c0e-9968-4b00-a523-8eb7948245b2",
   "metadata": {},
   "source": [
    "## Hypotheses"
   ]
  },
  {
   "cell_type": "markdown",
   "id": "ef20ccf2-b381-4ae3-9c8e-7a34acfa4628",
   "metadata": {},
   "source": [
    "Hypothesis testing can only test hypotheses. We need to translate our research questions into testable hypotheses. I'll convert my question and you do yours.\n",
    "\n",
    "**Question 1:**\n",
    "$$H_0:\\:\\: \\alpha_{\\text{sleep}} \\le 0$$\n",
    "$$H_1:\\:\\: \\alpha_{\\text{sleep}}>0$$\n",
    "\n",
    "**Question 2:**\n",
    "\n",
    "**Question 3:**"
   ]
  },
  {
   "cell_type": "markdown",
   "id": "4ba52969-a9b8-423e-a7c4-a862d2906e87",
   "metadata": {},
   "source": [
    "**Explain what your hypotheses mean in terms of the coefficients of a linear model.**\n",
    "\n",
    "* Question 1: The null hypothesis is that the coefficient for `sleep_hours` will be less than or equal to zero. If the p-value is low enough, it means we found evidence that getting more sleep may help students get better test scores.\n",
    "* Question 2:\n",
    "* Question 3:"
   ]
  },
  {
   "cell_type": "markdown",
   "id": "0de36e12-93b1-40db-a73f-6f7e2b574b7a",
   "metadata": {},
   "source": [
    "## Run the Hypothesis Test"
   ]
  },
  {
   "cell_type": "code",
   "execution_count": 14,
   "id": "5c769b65-fd45-4a5b-8bbe-81f16fde94ce",
   "metadata": {},
   "outputs": [],
   "source": [
    "# import the model from statsmodels"
   ]
  },
  {
   "cell_type": "code",
   "execution_count": 15,
   "id": "f9f05581-dffb-409b-946f-8669c9cb98af",
   "metadata": {},
   "outputs": [],
   "source": [
    "# add a constant\n",
    "# fit the model"
   ]
  },
  {
   "cell_type": "code",
   "execution_count": 16,
   "id": "95cb689f-b4a9-48b3-ad18-2742f7a863dd",
   "metadata": {},
   "outputs": [],
   "source": [
    "# view the summary table"
   ]
  },
  {
   "cell_type": "markdown",
   "id": "771dadd5-fb21-4c3e-b13f-8a3d75e0cd91",
   "metadata": {},
   "source": [
    "## Interpret the Results"
   ]
  },
  {
   "cell_type": "markdown",
   "id": "30a89ed0-f3cb-4401-84a2-a4f431ecc7d1",
   "metadata": {},
   "source": [
    "**In this cell, interpret the results of the hypothesis test. Answer the three research questions!**"
   ]
  },
  {
   "cell_type": "markdown",
   "id": "a7f68cb8-9e81-4b0f-8cc5-de54f0b6db44",
   "metadata": {},
   "source": [
    "**HARD QUESTION: What percent of the variance was explained by our model? Google it!**"
   ]
  },
  {
   "cell_type": "markdown",
   "id": "375815f6-dfd5-456d-a4fb-c3d7a4873ff1",
   "metadata": {},
   "source": [
    "## Check the Assumptions"
   ]
  },
  {
   "cell_type": "markdown",
   "id": "203da61a-42e2-4755-80ba-a71e3d2f3060",
   "metadata": {},
   "source": [
    "There are three assumptions of linear regression that we need to test:\n",
    "\n",
    "1. Data should be normally distributed\n",
    "2. Data should be homoscedastic\n",
    "3. Features should be independent"
   ]
  },
  {
   "cell_type": "markdown",
   "id": "1cb33d63-209c-4828-888e-a97ab166b64e",
   "metadata": {},
   "source": [
    "### 1. Data Should be Normally Distributed"
   ]
  },
  {
   "cell_type": "markdown",
   "id": "606b7153-0b96-4a1c-8221-556f15c2b394",
   "metadata": {},
   "source": [
    "Check this assumption. There are a few ways to do this. Google it! Then pick at least one method and perform the check."
   ]
  },
  {
   "cell_type": "code",
   "execution_count": 17,
   "id": "b176a14f-adb1-408d-9511-bf9bf2408160",
   "metadata": {},
   "outputs": [],
   "source": [
    "# check for normality here"
   ]
  },
  {
   "cell_type": "code",
   "execution_count": 18,
   "id": "3f1f53f5-215b-4720-9b03-34d7a373d1dc",
   "metadata": {},
   "outputs": [],
   "source": [
    "# check the mean and standard deviation of residuals here"
   ]
  },
  {
   "cell_type": "markdown",
   "id": "a619c437-43b2-43e5-ae9c-853dab450335",
   "metadata": {},
   "source": [
    "**Does the assumption of normality hold for your data? Why or why not?**"
   ]
  },
  {
   "cell_type": "markdown",
   "id": "f6bd8f3b-1d3c-43c7-993c-8fe8b205f1ca",
   "metadata": {},
   "source": [
    "### 2. Data should be homoscedastic"
   ]
  },
  {
   "cell_type": "markdown",
   "id": "9830845a-59d7-4ab0-90d9-fabf1b83ecad",
   "metadata": {},
   "source": [
    "There are a number of ways to check for homoscedasticity. Google it! Choose at least one method and run the test!"
   ]
  },
  {
   "cell_type": "code",
   "execution_count": 19,
   "id": "5bfd0ce7-dc66-4ef1-a30f-9c5ca43b27ec",
   "metadata": {},
   "outputs": [],
   "source": [
    "# check for homogeneity of variance (homoscedasticity) here"
   ]
  },
  {
   "cell_type": "markdown",
   "id": "16a40015-62f4-4d95-88c7-a1cbf5828945",
   "metadata": {},
   "source": [
    "**Does the assumption of homoscedasticity hold for your data? Why or why not?**"
   ]
  },
  {
   "cell_type": "markdown",
   "id": "2896b4d2-590c-4867-b3f3-bac082d1b335",
   "metadata": {},
   "source": [
    "### 3. Features should be independent"
   ]
  },
  {
   "cell_type": "markdown",
   "id": "5c53021a-9cf7-4d9a-9c4b-a7e777f6e0f8",
   "metadata": {},
   "source": [
    "If your features are not independent it can cause big problems in the coefficients of the linear regression. Google how to check this! Then run at least one test for feature independence."
   ]
  },
  {
   "cell_type": "code",
   "execution_count": 20,
   "id": "e6aa7d4a-6d25-404e-8f75-0e771af095fb",
   "metadata": {},
   "outputs": [],
   "source": [
    "# check for independence here"
   ]
  },
  {
   "cell_type": "markdown",
   "id": "15b1701c-cff9-4a04-9fd7-db259556fbed",
   "metadata": {},
   "source": [
    "**Does the assumption of independence hold for you data? Why or why not?**"
   ]
  },
  {
   "cell_type": "markdown",
   "id": "683e31c5-c308-489a-8c67-bed756a4f00f",
   "metadata": {},
   "source": [
    "### Are the results trustworthy?"
   ]
  },
  {
   "cell_type": "markdown",
   "id": "948de484-86d3-4227-aeca-ee5f4970a2e2",
   "metadata": {},
   "source": [
    "**ANSWER THE QUESTION HERE**"
   ]
  },
  {
   "cell_type": "markdown",
   "id": "83f160e0-58a1-44fa-a1d1-7a02987ed002",
   "metadata": {},
   "source": [
    "# Prediction"
   ]
  },
  {
   "cell_type": "markdown",
   "id": "4ef08783-64a2-4dc7-b91a-9ce0d422f12e",
   "metadata": {},
   "source": [
    "We already fit a model, and we can use it for prediction, too! Since it's already fit, we just need to generate predictions. Since this is regression and not classification (the target is a continuous floating point number, not a category), all it takes is `model.predict(X_test)`. However, you need to scale and encode the test set first! To do this, use the same `StandardScaler` you used for the training data, but instead of fit_transform, just use the `transform` function."
   ]
  },
  {
   "cell_type": "code",
   "execution_count": 21,
   "id": "14bef7e9-401a-4800-bad3-450a51e36a05",
   "metadata": {},
   "outputs": [],
   "source": [
    "# scale and encode the test set. Use the SAME scaler and encoding method that you used for the training data!"
   ]
  },
  {
   "cell_type": "code",
   "execution_count": 22,
   "id": "6930ee62-46fb-4b4c-ab59-c6a6e92f5597",
   "metadata": {},
   "outputs": [],
   "source": [
    "# check the description of the test set. It's okay if the mean isn't zero and the standard deviation isn't one."
   ]
  },
  {
   "cell_type": "code",
   "execution_count": 23,
   "id": "d415a19c-90a6-49ae-8f73-cbe7908a5dcf",
   "metadata": {},
   "outputs": [],
   "source": [
    "# generate predictions on the test set"
   ]
  },
  {
   "cell_type": "markdown",
   "id": "21cbfcbb-8791-49e0-9bd2-6fe656d9ed06",
   "metadata": {},
   "source": [
    "## Check Prediction Accuracy"
   ]
  },
  {
   "cell_type": "markdown",
   "id": "070a6097-35f5-4cce-a6b5-6d6563bfe48a",
   "metadata": {},
   "source": [
    "There are a bunch of metrics that you might use to check the accuracy of a regression like this. Google it and read about a few!\n",
    "\n",
    "I want us to look at the **R-squared**, the **RMSE**, the **MAE**, and the **Correlation** between predicted and actual values.\n",
    "Print those values and also make a visualization of the predicted vs. true values."
   ]
  },
  {
   "cell_type": "code",
   "execution_count": 24,
   "id": "16f8ab4e-8018-4131-9fa8-5c327bf46fd2",
   "metadata": {},
   "outputs": [],
   "source": [
    "# import what you need"
   ]
  },
  {
   "cell_type": "code",
   "execution_count": 25,
   "id": "6e5edeca-4751-4dfa-8cb0-01fbf3f63737",
   "metadata": {},
   "outputs": [],
   "source": [
    "# print metrics here"
   ]
  },
  {
   "cell_type": "code",
   "execution_count": 26,
   "id": "a4fad703-1f5c-47a1-9152-f5191d48ee96",
   "metadata": {},
   "outputs": [],
   "source": [
    "# plot predictions vs true values"
   ]
  },
  {
   "cell_type": "markdown",
   "id": "da8fefaf-4a42-4aa9-a8a0-19f3822e101a",
   "metadata": {},
   "source": [
    "**In this cell, describe the model's performance.**"
   ]
  },
  {
   "cell_type": "markdown",
   "id": "d344895f-8d09-4611-bc92-75a4bf10ee84",
   "metadata": {},
   "source": [
    "## Translate the Predictions Back to the Original Scale and Check Metrics Again"
   ]
  },
  {
   "cell_type": "markdown",
   "id": "1c5a461e-2a8c-4f92-82e7-7ad5c6d2e94f",
   "metadata": {},
   "source": [
    "We scaled the target variable using the StandardScaler, which means it no longer has the units it original had. We need to rescale the predictions and true values back to the original units and then check the metrics again. Use the same scaler again, but now use `inverse_transform`."
   ]
  },
  {
   "cell_type": "code",
   "execution_count": 27,
   "id": "e26e0446-7b3f-4a0f-971d-9f635896b190",
   "metadata": {},
   "outputs": [],
   "source": [
    "# inverse transform y_test and the predictions"
   ]
  },
  {
   "cell_type": "code",
   "execution_count": 28,
   "id": "5e7bb3e2-746d-4660-b456-a6e5f9e5dbfd",
   "metadata": {},
   "outputs": [],
   "source": [
    "# redo the metrics here\n",
    "# print metrics here"
   ]
  },
  {
   "cell_type": "code",
   "execution_count": 29,
   "id": "ff82132a-bcfe-456a-ad49-83a382428515",
   "metadata": {},
   "outputs": [],
   "source": [
    "# plot predictions vs true values"
   ]
  },
  {
   "cell_type": "markdown",
   "id": "b2754b8c-9eac-450d-bdd6-5fc7717fa9dc",
   "metadata": {},
   "source": [
    "**How is the model performance on the original scale?**"
   ]
  }
 ],
 "metadata": {
  "kernelspec": {
   "display_name": "Python 3 (ipykernel)",
   "language": "python",
   "name": "python3"
  },
  "language_info": {
   "codemirror_mode": {
    "name": "ipython",
    "version": 3
   },
   "file_extension": ".py",
   "mimetype": "text/x-python",
   "name": "python",
   "nbconvert_exporter": "python",
   "pygments_lexer": "ipython3",
   "version": "3.12.4"
  }
 },
 "nbformat": 4,
 "nbformat_minor": 5
}
